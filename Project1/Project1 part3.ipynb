{
 "cells": [
  {
   "cell_type": "code",
   "execution_count": 1,
   "metadata": {},
   "outputs": [],
   "source": [
    "import numpy as np\n",
    "import pandas as pd\n",
    "from Project1_funcs import *\n",
    "import matplotlib.pyplot as plt\n",
    "dataset = pd.read_csv('Live.csv')\n",
    "df = pd.DataFrame(dataset)"
   ]
  },
  {
   "cell_type": "code",
   "execution_count": 2,
   "metadata": {},
   "outputs": [],
   "source": [
    "our_data = pd.get_dummies(df, columns = ['status_type'])"
   ]
  },
  {
   "cell_type": "code",
   "execution_count": 3,
   "metadata": {},
   "outputs": [],
   "source": [
    "fixed_data = our_data.drop(['status_id', 'status_published','num_loves','num_wows', 'num_hahas',\n",
    "'num_sads', 'num_angrys', 'Column1', 'Column2', 'Column3', 'Column4'], axis\n",
    "= 1)"
   ]
  },
  {
   "cell_type": "code",
   "execution_count": 4,
   "metadata": {},
   "outputs": [
    {
     "data": {
      "text/html": [
       "<div>\n",
       "<style scoped>\n",
       "    .dataframe tbody tr th:only-of-type {\n",
       "        vertical-align: middle;\n",
       "    }\n",
       "\n",
       "    .dataframe tbody tr th {\n",
       "        vertical-align: top;\n",
       "    }\n",
       "\n",
       "    .dataframe thead th {\n",
       "        text-align: right;\n",
       "    }\n",
       "</style>\n",
       "<table border=\"1\" class=\"dataframe\">\n",
       "  <thead>\n",
       "    <tr style=\"text-align: right;\">\n",
       "      <th></th>\n",
       "      <th>num_reactions</th>\n",
       "      <th>num_comments</th>\n",
       "      <th>num_shares</th>\n",
       "      <th>num_likes</th>\n",
       "      <th>status_type_link</th>\n",
       "      <th>status_type_photo</th>\n",
       "      <th>status_type_status</th>\n",
       "      <th>status_type_video</th>\n",
       "    </tr>\n",
       "  </thead>\n",
       "  <tbody>\n",
       "    <tr>\n",
       "      <th>0</th>\n",
       "      <td>529</td>\n",
       "      <td>512</td>\n",
       "      <td>262</td>\n",
       "      <td>432</td>\n",
       "      <td>0</td>\n",
       "      <td>0</td>\n",
       "      <td>0</td>\n",
       "      <td>1</td>\n",
       "    </tr>\n",
       "    <tr>\n",
       "      <th>1</th>\n",
       "      <td>150</td>\n",
       "      <td>0</td>\n",
       "      <td>0</td>\n",
       "      <td>150</td>\n",
       "      <td>0</td>\n",
       "      <td>1</td>\n",
       "      <td>0</td>\n",
       "      <td>0</td>\n",
       "    </tr>\n",
       "    <tr>\n",
       "      <th>2</th>\n",
       "      <td>227</td>\n",
       "      <td>236</td>\n",
       "      <td>57</td>\n",
       "      <td>204</td>\n",
       "      <td>0</td>\n",
       "      <td>0</td>\n",
       "      <td>0</td>\n",
       "      <td>1</td>\n",
       "    </tr>\n",
       "    <tr>\n",
       "      <th>3</th>\n",
       "      <td>111</td>\n",
       "      <td>0</td>\n",
       "      <td>0</td>\n",
       "      <td>111</td>\n",
       "      <td>0</td>\n",
       "      <td>1</td>\n",
       "      <td>0</td>\n",
       "      <td>0</td>\n",
       "    </tr>\n",
       "    <tr>\n",
       "      <th>4</th>\n",
       "      <td>213</td>\n",
       "      <td>0</td>\n",
       "      <td>0</td>\n",
       "      <td>204</td>\n",
       "      <td>0</td>\n",
       "      <td>1</td>\n",
       "      <td>0</td>\n",
       "      <td>0</td>\n",
       "    </tr>\n",
       "    <tr>\n",
       "      <th>...</th>\n",
       "      <td>...</td>\n",
       "      <td>...</td>\n",
       "      <td>...</td>\n",
       "      <td>...</td>\n",
       "      <td>...</td>\n",
       "      <td>...</td>\n",
       "      <td>...</td>\n",
       "      <td>...</td>\n",
       "    </tr>\n",
       "    <tr>\n",
       "      <th>7045</th>\n",
       "      <td>89</td>\n",
       "      <td>0</td>\n",
       "      <td>0</td>\n",
       "      <td>89</td>\n",
       "      <td>0</td>\n",
       "      <td>1</td>\n",
       "      <td>0</td>\n",
       "      <td>0</td>\n",
       "    </tr>\n",
       "    <tr>\n",
       "      <th>7046</th>\n",
       "      <td>16</td>\n",
       "      <td>0</td>\n",
       "      <td>0</td>\n",
       "      <td>14</td>\n",
       "      <td>0</td>\n",
       "      <td>1</td>\n",
       "      <td>0</td>\n",
       "      <td>0</td>\n",
       "    </tr>\n",
       "    <tr>\n",
       "      <th>7047</th>\n",
       "      <td>2</td>\n",
       "      <td>0</td>\n",
       "      <td>0</td>\n",
       "      <td>1</td>\n",
       "      <td>0</td>\n",
       "      <td>1</td>\n",
       "      <td>0</td>\n",
       "      <td>0</td>\n",
       "    </tr>\n",
       "    <tr>\n",
       "      <th>7048</th>\n",
       "      <td>351</td>\n",
       "      <td>12</td>\n",
       "      <td>22</td>\n",
       "      <td>349</td>\n",
       "      <td>0</td>\n",
       "      <td>1</td>\n",
       "      <td>0</td>\n",
       "      <td>0</td>\n",
       "    </tr>\n",
       "    <tr>\n",
       "      <th>7049</th>\n",
       "      <td>17</td>\n",
       "      <td>0</td>\n",
       "      <td>0</td>\n",
       "      <td>17</td>\n",
       "      <td>0</td>\n",
       "      <td>1</td>\n",
       "      <td>0</td>\n",
       "      <td>0</td>\n",
       "    </tr>\n",
       "  </tbody>\n",
       "</table>\n",
       "<p>7050 rows × 8 columns</p>\n",
       "</div>"
      ],
      "text/plain": [
       "      num_reactions  num_comments  num_shares  num_likes  status_type_link  \\\n",
       "0               529           512         262        432                 0   \n",
       "1               150             0           0        150                 0   \n",
       "2               227           236          57        204                 0   \n",
       "3               111             0           0        111                 0   \n",
       "4               213             0           0        204                 0   \n",
       "...             ...           ...         ...        ...               ...   \n",
       "7045             89             0           0         89                 0   \n",
       "7046             16             0           0         14                 0   \n",
       "7047              2             0           0          1                 0   \n",
       "7048            351            12          22        349                 0   \n",
       "7049             17             0           0         17                 0   \n",
       "\n",
       "      status_type_photo  status_type_status  status_type_video  \n",
       "0                     0                   0                  1  \n",
       "1                     1                   0                  0  \n",
       "2                     0                   0                  1  \n",
       "3                     1                   0                  0  \n",
       "4                     1                   0                  0  \n",
       "...                 ...                 ...                ...  \n",
       "7045                  1                   0                  0  \n",
       "7046                  1                   0                  0  \n",
       "7047                  1                   0                  0  \n",
       "7048                  1                   0                  0  \n",
       "7049                  1                   0                  0  \n",
       "\n",
       "[7050 rows x 8 columns]"
      ]
     },
     "execution_count": 4,
     "metadata": {},
     "output_type": "execute_result"
    }
   ],
   "source": [
    "fixed_data"
   ]
  },
  {
   "cell_type": "code",
   "execution_count": 5,
   "metadata": {},
   "outputs": [],
   "source": [
    "np_fixed_data = fixed_data.to_numpy()"
   ]
  },
  {
   "cell_type": "code",
   "execution_count": 6,
   "metadata": {},
   "outputs": [
    {
     "data": {
      "text/plain": [
       "array([[529, 512, 262, ...,   0,   0,   1],\n",
       "       [150,   0,   0, ...,   1,   0,   0],\n",
       "       [227, 236,  57, ...,   0,   0,   1],\n",
       "       ...,\n",
       "       [  2,   0,   0, ...,   1,   0,   0],\n",
       "       [351,  12,  22, ...,   1,   0,   0],\n",
       "       [ 17,   0,   0, ...,   1,   0,   0]])"
      ]
     },
     "execution_count": 6,
     "metadata": {},
     "output_type": "execute_result"
    }
   ],
   "source": [
    "np_fixed_data"
   ]
  },
  {
   "cell_type": "code",
   "execution_count": 7,
   "metadata": {},
   "outputs": [],
   "source": [
    "np_fixed_data_t = np_fixed_data.transpose()"
   ]
  },
  {
   "cell_type": "code",
   "execution_count": 8,
   "metadata": {},
   "outputs": [
    {
     "data": {
      "text/plain": [
       "array([2.30117163e+02, 2.24356028e+02, 4.00225532e+01, 2.15043121e+02,\n",
       "       8.93617021e-03, 6.08226950e-01, 5.17730496e-02, 3.31063830e-01])"
      ]
     },
     "execution_count": 8,
     "metadata": {},
     "output_type": "execute_result"
    }
   ],
   "source": [
    "col_means(np_fixed_data_t)"
   ]
  },
  {
   "cell_type": "code",
   "execution_count": 9,
   "metadata": {},
   "outputs": [],
   "source": [
    "x = np.array([[1,2,3],[4,5,6],[7,8,9],[10,11,12],[13,14,15]])"
   ]
  },
  {
   "cell_type": "code",
   "execution_count": 10,
   "metadata": {},
   "outputs": [
    {
     "data": {
      "text/plain": [
       "array([[529, 150, 227, ...,   2, 351,  17],\n",
       "       [512,   0, 236, ...,   0,  12,   0],\n",
       "       [262,   0,  57, ...,   0,  22,   0],\n",
       "       ...,\n",
       "       [  0,   1,   0, ...,   1,   1,   1],\n",
       "       [  0,   0,   0, ...,   0,   0,   0],\n",
       "       [  1,   0,   1, ...,   0,   0,   0]])"
      ]
     },
     "execution_count": 10,
     "metadata": {},
     "output_type": "execute_result"
    }
   ],
   "source": [
    "np_fixed_data_t"
   ]
  },
  {
   "cell_type": "code",
   "execution_count": 11,
   "metadata": {},
   "outputs": [],
   "source": [
    "cm = covar_mat(np_fixed_data_t)"
   ]
  },
  {
   "cell_type": "code",
   "execution_count": 12,
   "metadata": {},
   "outputs": [],
   "source": [
    "cm_df = pd.DataFrame(cm)"
   ]
  },
  {
   "cell_type": "code",
   "execution_count": 13,
   "metadata": {},
   "outputs": [
    {
     "data": {
      "text/html": [
       "<div>\n",
       "<style scoped>\n",
       "    .dataframe tbody tr th:only-of-type {\n",
       "        vertical-align: middle;\n",
       "    }\n",
       "\n",
       "    .dataframe tbody tr th {\n",
       "        vertical-align: top;\n",
       "    }\n",
       "\n",
       "    .dataframe thead th {\n",
       "        text-align: right;\n",
       "    }\n",
       "</style>\n",
       "<table border=\"1\" class=\"dataframe\">\n",
       "  <thead>\n",
       "    <tr style=\"text-align: right;\">\n",
       "      <th></th>\n",
       "      <th>0</th>\n",
       "      <th>1</th>\n",
       "      <th>2</th>\n",
       "      <th>3</th>\n",
       "      <th>4</th>\n",
       "      <th>5</th>\n",
       "      <th>6</th>\n",
       "      <th>7</th>\n",
       "    </tr>\n",
       "  </thead>\n",
       "  <tbody>\n",
       "    <tr>\n",
       "      <th>0</th>\n",
       "      <td>214022.176652</td>\n",
       "      <td>62082.188810</td>\n",
       "      <td>15264.356557</td>\n",
       "      <td>206881.667525</td>\n",
       "      <td>1.251471</td>\n",
       "      <td>-29.702000</td>\n",
       "      <td>10.804828</td>\n",
       "      <td>17.645700</td>\n",
       "    </tr>\n",
       "    <tr>\n",
       "      <th>1</th>\n",
       "      <td>62082.188810</td>\n",
       "      <td>791453.670644</td>\n",
       "      <td>75003.376988</td>\n",
       "      <td>40661.305968</td>\n",
       "      <td>-1.954239</td>\n",
       "      <td>-126.749702</td>\n",
       "      <td>-9.740807</td>\n",
       "      <td>138.444748</td>\n",
       "    </tr>\n",
       "    <tr>\n",
       "      <th>2</th>\n",
       "      <td>15264.356557</td>\n",
       "      <td>75003.376988</td>\n",
       "      <td>17318.550917</td>\n",
       "      <td>10202.991934</td>\n",
       "      <td>-0.318403</td>\n",
       "      <td>-22.792695</td>\n",
       "      <td>-1.939883</td>\n",
       "      <td>25.050980</td>\n",
       "    </tr>\n",
       "    <tr>\n",
       "      <th>3</th>\n",
       "      <td>206881.667525</td>\n",
       "      <td>40661.305968</td>\n",
       "      <td>10202.991934</td>\n",
       "      <td>202025.399758</td>\n",
       "      <td>1.381513</td>\n",
       "      <td>-22.060278</td>\n",
       "      <td>11.416834</td>\n",
       "      <td>9.261932</td>\n",
       "    </tr>\n",
       "    <tr>\n",
       "      <th>4</th>\n",
       "      <td>1.251471</td>\n",
       "      <td>-1.954239</td>\n",
       "      <td>-0.318403</td>\n",
       "      <td>1.381513</td>\n",
       "      <td>0.008858</td>\n",
       "      <td>-0.005436</td>\n",
       "      <td>-0.000463</td>\n",
       "      <td>-0.002959</td>\n",
       "    </tr>\n",
       "    <tr>\n",
       "      <th>5</th>\n",
       "      <td>-29.702000</td>\n",
       "      <td>-126.749702</td>\n",
       "      <td>-22.792695</td>\n",
       "      <td>-22.060278</td>\n",
       "      <td>-0.005436</td>\n",
       "      <td>0.238321</td>\n",
       "      <td>-0.031494</td>\n",
       "      <td>-0.201391</td>\n",
       "    </tr>\n",
       "    <tr>\n",
       "      <th>6</th>\n",
       "      <td>10.804828</td>\n",
       "      <td>-9.740807</td>\n",
       "      <td>-1.939883</td>\n",
       "      <td>11.416834</td>\n",
       "      <td>-0.000463</td>\n",
       "      <td>-0.031494</td>\n",
       "      <td>0.049100</td>\n",
       "      <td>-0.017143</td>\n",
       "    </tr>\n",
       "    <tr>\n",
       "      <th>7</th>\n",
       "      <td>17.645700</td>\n",
       "      <td>138.444748</td>\n",
       "      <td>25.050980</td>\n",
       "      <td>9.261932</td>\n",
       "      <td>-0.002959</td>\n",
       "      <td>-0.201391</td>\n",
       "      <td>-0.017143</td>\n",
       "      <td>0.221492</td>\n",
       "    </tr>\n",
       "  </tbody>\n",
       "</table>\n",
       "</div>"
      ],
      "text/plain": [
       "               0              1             2              3         4  \\\n",
       "0  214022.176652   62082.188810  15264.356557  206881.667525  1.251471   \n",
       "1   62082.188810  791453.670644  75003.376988   40661.305968 -1.954239   \n",
       "2   15264.356557   75003.376988  17318.550917   10202.991934 -0.318403   \n",
       "3  206881.667525   40661.305968  10202.991934  202025.399758  1.381513   \n",
       "4       1.251471      -1.954239     -0.318403       1.381513  0.008858   \n",
       "5     -29.702000    -126.749702    -22.792695     -22.060278 -0.005436   \n",
       "6      10.804828      -9.740807     -1.939883      11.416834 -0.000463   \n",
       "7      17.645700     138.444748     25.050980       9.261932 -0.002959   \n",
       "\n",
       "            5          6           7  \n",
       "0  -29.702000  10.804828   17.645700  \n",
       "1 -126.749702  -9.740807  138.444748  \n",
       "2  -22.792695  -1.939883   25.050980  \n",
       "3  -22.060278  11.416834    9.261932  \n",
       "4   -0.005436  -0.000463   -0.002959  \n",
       "5    0.238321  -0.031494   -0.201391  \n",
       "6   -0.031494   0.049100   -0.017143  \n",
       "7   -0.201391  -0.017143    0.221492  "
      ]
     },
     "execution_count": 13,
     "metadata": {},
     "output_type": "execute_result"
    }
   ],
   "source": [
    "cm_df"
   ]
  },
  {
   "cell_type": "code",
   "execution_count": 14,
   "metadata": {},
   "outputs": [],
   "source": [
    "num_attrs = fixed_data.iloc[:,0:4]"
   ]
  },
  {
   "cell_type": "code",
   "execution_count": 15,
   "metadata": {},
   "outputs": [
    {
     "data": {
      "text/html": [
       "<div>\n",
       "<style scoped>\n",
       "    .dataframe tbody tr th:only-of-type {\n",
       "        vertical-align: middle;\n",
       "    }\n",
       "\n",
       "    .dataframe tbody tr th {\n",
       "        vertical-align: top;\n",
       "    }\n",
       "\n",
       "    .dataframe thead th {\n",
       "        text-align: right;\n",
       "    }\n",
       "</style>\n",
       "<table border=\"1\" class=\"dataframe\">\n",
       "  <thead>\n",
       "    <tr style=\"text-align: right;\">\n",
       "      <th></th>\n",
       "      <th>num_reactions</th>\n",
       "      <th>num_comments</th>\n",
       "      <th>num_shares</th>\n",
       "      <th>num_likes</th>\n",
       "    </tr>\n",
       "  </thead>\n",
       "  <tbody>\n",
       "    <tr>\n",
       "      <th>0</th>\n",
       "      <td>529</td>\n",
       "      <td>512</td>\n",
       "      <td>262</td>\n",
       "      <td>432</td>\n",
       "    </tr>\n",
       "    <tr>\n",
       "      <th>1</th>\n",
       "      <td>150</td>\n",
       "      <td>0</td>\n",
       "      <td>0</td>\n",
       "      <td>150</td>\n",
       "    </tr>\n",
       "    <tr>\n",
       "      <th>2</th>\n",
       "      <td>227</td>\n",
       "      <td>236</td>\n",
       "      <td>57</td>\n",
       "      <td>204</td>\n",
       "    </tr>\n",
       "    <tr>\n",
       "      <th>3</th>\n",
       "      <td>111</td>\n",
       "      <td>0</td>\n",
       "      <td>0</td>\n",
       "      <td>111</td>\n",
       "    </tr>\n",
       "    <tr>\n",
       "      <th>4</th>\n",
       "      <td>213</td>\n",
       "      <td>0</td>\n",
       "      <td>0</td>\n",
       "      <td>204</td>\n",
       "    </tr>\n",
       "    <tr>\n",
       "      <th>...</th>\n",
       "      <td>...</td>\n",
       "      <td>...</td>\n",
       "      <td>...</td>\n",
       "      <td>...</td>\n",
       "    </tr>\n",
       "    <tr>\n",
       "      <th>7045</th>\n",
       "      <td>89</td>\n",
       "      <td>0</td>\n",
       "      <td>0</td>\n",
       "      <td>89</td>\n",
       "    </tr>\n",
       "    <tr>\n",
       "      <th>7046</th>\n",
       "      <td>16</td>\n",
       "      <td>0</td>\n",
       "      <td>0</td>\n",
       "      <td>14</td>\n",
       "    </tr>\n",
       "    <tr>\n",
       "      <th>7047</th>\n",
       "      <td>2</td>\n",
       "      <td>0</td>\n",
       "      <td>0</td>\n",
       "      <td>1</td>\n",
       "    </tr>\n",
       "    <tr>\n",
       "      <th>7048</th>\n",
       "      <td>351</td>\n",
       "      <td>12</td>\n",
       "      <td>22</td>\n",
       "      <td>349</td>\n",
       "    </tr>\n",
       "    <tr>\n",
       "      <th>7049</th>\n",
       "      <td>17</td>\n",
       "      <td>0</td>\n",
       "      <td>0</td>\n",
       "      <td>17</td>\n",
       "    </tr>\n",
       "  </tbody>\n",
       "</table>\n",
       "<p>7050 rows × 4 columns</p>\n",
       "</div>"
      ],
      "text/plain": [
       "      num_reactions  num_comments  num_shares  num_likes\n",
       "0               529           512         262        432\n",
       "1               150             0           0        150\n",
       "2               227           236          57        204\n",
       "3               111             0           0        111\n",
       "4               213             0           0        204\n",
       "...             ...           ...         ...        ...\n",
       "7045             89             0           0         89\n",
       "7046             16             0           0         14\n",
       "7047              2             0           0          1\n",
       "7048            351            12          22        349\n",
       "7049             17             0           0         17\n",
       "\n",
       "[7050 rows x 4 columns]"
      ]
     },
     "execution_count": 15,
     "metadata": {},
     "output_type": "execute_result"
    }
   ],
   "source": [
    "num_attrs"
   ]
  },
  {
   "cell_type": "code",
   "execution_count": 16,
   "metadata": {},
   "outputs": [],
   "source": [
    "rnorm_num_attrs = range_norm(num_attrs.to_numpy().transpose())"
   ]
  },
  {
   "cell_type": "code",
   "execution_count": 17,
   "metadata": {},
   "outputs": [
    {
     "data": {
      "text/plain": [
       "array([[0.11231423, 0.03184713, 0.04819533, ..., 0.00042463, 0.07452229,\n",
       "        0.00360934],\n",
       "       [0.02439257, 0.        , 0.01124345, ..., 0.        , 0.0005717 ,\n",
       "        0.        ],\n",
       "       [0.07651869, 0.        , 0.0166472 , ..., 0.        , 0.00642523,\n",
       "        0.        ],\n",
       "       [0.09171975, 0.03184713, 0.0433121 , ..., 0.00021231, 0.07409766,\n",
       "        0.00360934]])"
      ]
     },
     "execution_count": 17,
     "metadata": {},
     "output_type": "execute_result"
    }
   ],
   "source": [
    "rnorm_num_attrs"
   ]
  },
  {
   "cell_type": "code",
   "execution_count": 18,
   "metadata": {},
   "outputs": [
    {
     "data": {
      "text/html": [
       "<div>\n",
       "<style scoped>\n",
       "    .dataframe tbody tr th:only-of-type {\n",
       "        vertical-align: middle;\n",
       "    }\n",
       "\n",
       "    .dataframe tbody tr th {\n",
       "        vertical-align: top;\n",
       "    }\n",
       "\n",
       "    .dataframe thead th {\n",
       "        text-align: right;\n",
       "    }\n",
       "</style>\n",
       "<table border=\"1\" class=\"dataframe\">\n",
       "  <thead>\n",
       "    <tr style=\"text-align: right;\">\n",
       "      <th></th>\n",
       "      <th>0</th>\n",
       "      <th>1</th>\n",
       "      <th>2</th>\n",
       "      <th>3</th>\n",
       "    </tr>\n",
       "  </thead>\n",
       "  <tbody>\n",
       "    <tr>\n",
       "      <th>0</th>\n",
       "      <td>0.112314</td>\n",
       "      <td>0.024393</td>\n",
       "      <td>0.076519</td>\n",
       "      <td>0.091720</td>\n",
       "    </tr>\n",
       "    <tr>\n",
       "      <th>1</th>\n",
       "      <td>0.031847</td>\n",
       "      <td>0.000000</td>\n",
       "      <td>0.000000</td>\n",
       "      <td>0.031847</td>\n",
       "    </tr>\n",
       "    <tr>\n",
       "      <th>2</th>\n",
       "      <td>0.048195</td>\n",
       "      <td>0.011243</td>\n",
       "      <td>0.016647</td>\n",
       "      <td>0.043312</td>\n",
       "    </tr>\n",
       "    <tr>\n",
       "      <th>3</th>\n",
       "      <td>0.023567</td>\n",
       "      <td>0.000000</td>\n",
       "      <td>0.000000</td>\n",
       "      <td>0.023567</td>\n",
       "    </tr>\n",
       "    <tr>\n",
       "      <th>4</th>\n",
       "      <td>0.045223</td>\n",
       "      <td>0.000000</td>\n",
       "      <td>0.000000</td>\n",
       "      <td>0.043312</td>\n",
       "    </tr>\n",
       "    <tr>\n",
       "      <th>...</th>\n",
       "      <td>...</td>\n",
       "      <td>...</td>\n",
       "      <td>...</td>\n",
       "      <td>...</td>\n",
       "    </tr>\n",
       "    <tr>\n",
       "      <th>7045</th>\n",
       "      <td>0.018896</td>\n",
       "      <td>0.000000</td>\n",
       "      <td>0.000000</td>\n",
       "      <td>0.018896</td>\n",
       "    </tr>\n",
       "    <tr>\n",
       "      <th>7046</th>\n",
       "      <td>0.003397</td>\n",
       "      <td>0.000000</td>\n",
       "      <td>0.000000</td>\n",
       "      <td>0.002972</td>\n",
       "    </tr>\n",
       "    <tr>\n",
       "      <th>7047</th>\n",
       "      <td>0.000425</td>\n",
       "      <td>0.000000</td>\n",
       "      <td>0.000000</td>\n",
       "      <td>0.000212</td>\n",
       "    </tr>\n",
       "    <tr>\n",
       "      <th>7048</th>\n",
       "      <td>0.074522</td>\n",
       "      <td>0.000572</td>\n",
       "      <td>0.006425</td>\n",
       "      <td>0.074098</td>\n",
       "    </tr>\n",
       "    <tr>\n",
       "      <th>7049</th>\n",
       "      <td>0.003609</td>\n",
       "      <td>0.000000</td>\n",
       "      <td>0.000000</td>\n",
       "      <td>0.003609</td>\n",
       "    </tr>\n",
       "  </tbody>\n",
       "</table>\n",
       "<p>7050 rows × 4 columns</p>\n",
       "</div>"
      ],
      "text/plain": [
       "             0         1         2         3\n",
       "0     0.112314  0.024393  0.076519  0.091720\n",
       "1     0.031847  0.000000  0.000000  0.031847\n",
       "2     0.048195  0.011243  0.016647  0.043312\n",
       "3     0.023567  0.000000  0.000000  0.023567\n",
       "4     0.045223  0.000000  0.000000  0.043312\n",
       "...        ...       ...       ...       ...\n",
       "7045  0.018896  0.000000  0.000000  0.018896\n",
       "7046  0.003397  0.000000  0.000000  0.002972\n",
       "7047  0.000425  0.000000  0.000000  0.000212\n",
       "7048  0.074522  0.000572  0.006425  0.074098\n",
       "7049  0.003609  0.000000  0.000000  0.003609\n",
       "\n",
       "[7050 rows x 4 columns]"
      ]
     },
     "execution_count": 18,
     "metadata": {},
     "output_type": "execute_result"
    }
   ],
   "source": [
    "pd.DataFrame(rnorm_num_attrs.transpose())"
   ]
  },
  {
   "cell_type": "code",
   "execution_count": 19,
   "metadata": {},
   "outputs": [],
   "source": [
    "r_norm_cov_mat = covar_mat(rnorm_num_attrs)"
   ]
  },
  {
   "cell_type": "code",
   "execution_count": 20,
   "metadata": {},
   "outputs": [
    {
     "data": {
      "text/html": [
       "<div>\n",
       "<style scoped>\n",
       "    .dataframe tbody tr th:only-of-type {\n",
       "        vertical-align: middle;\n",
       "    }\n",
       "\n",
       "    .dataframe tbody tr th {\n",
       "        vertical-align: top;\n",
       "    }\n",
       "\n",
       "    .dataframe thead th {\n",
       "        text-align: right;\n",
       "    }\n",
       "</style>\n",
       "<table border=\"1\" class=\"dataframe\">\n",
       "  <thead>\n",
       "    <tr style=\"text-align: right;\">\n",
       "      <th></th>\n",
       "      <th>0</th>\n",
       "      <th>1</th>\n",
       "      <th>2</th>\n",
       "      <th>3</th>\n",
       "    </tr>\n",
       "  </thead>\n",
       "  <tbody>\n",
       "    <tr>\n",
       "      <th>0</th>\n",
       "      <td>0.009648</td>\n",
       "      <td>0.000628</td>\n",
       "      <td>0.000947</td>\n",
       "      <td>0.009326</td>\n",
       "    </tr>\n",
       "    <tr>\n",
       "      <th>1</th>\n",
       "      <td>0.000628</td>\n",
       "      <td>0.001796</td>\n",
       "      <td>0.001044</td>\n",
       "      <td>0.000411</td>\n",
       "    </tr>\n",
       "    <tr>\n",
       "      <th>2</th>\n",
       "      <td>0.000947</td>\n",
       "      <td>0.001044</td>\n",
       "      <td>0.001477</td>\n",
       "      <td>0.000633</td>\n",
       "    </tr>\n",
       "    <tr>\n",
       "      <th>3</th>\n",
       "      <td>0.009326</td>\n",
       "      <td>0.000411</td>\n",
       "      <td>0.000633</td>\n",
       "      <td>0.009107</td>\n",
       "    </tr>\n",
       "  </tbody>\n",
       "</table>\n",
       "</div>"
      ],
      "text/plain": [
       "          0         1         2         3\n",
       "0  0.009648  0.000628  0.000947  0.009326\n",
       "1  0.000628  0.001796  0.001044  0.000411\n",
       "2  0.000947  0.001044  0.001477  0.000633\n",
       "3  0.009326  0.000411  0.000633  0.009107"
      ]
     },
     "execution_count": 20,
     "metadata": {},
     "output_type": "execute_result"
    }
   ],
   "source": [
    "pd.DataFrame(r_norm_cov_mat)"
   ]
  },
  {
   "cell_type": "code",
   "execution_count": 21,
   "metadata": {},
   "outputs": [
    {
     "name": "stdout",
     "output_type": "stream",
     "text": [
      "The greatest sample covariance of the range-normalized attributes is: 0.009325673231044529\n"
     ]
    }
   ],
   "source": [
    "print(\"The greatest sample covariance of the range-normalized attributes is: \" + str(r_norm_cov_mat[0,3]))"
   ]
  },
  {
   "cell_type": "code",
   "execution_count": 22,
   "metadata": {},
   "outputs": [
    {
     "data": {
      "text/plain": [
       "Text(0, 0.5, 'Range Normalized Number of Reactions')"
      ]
     },
     "execution_count": 22,
     "metadata": {},
     "output_type": "execute_result"
    },
    {
     "data": {
      "image/png": "[encoded data removed]",
      "text/plain": [
       "<Figure size 432x288 with 1 Axes>"
      ]
     },
     "metadata": {
      "needs_background": "light"
     },
     "output_type": "display_data"
    }
   ],
   "source": [
    "plt.scatter(rnorm_num_attrs.transpose()[:,3], rnorm_num_attrs.transpose()[:,0])\n",
    "plt.title('Ranged Normalized (Number of Likes vs Number of Reactions)')\n",
    "plt.xlabel('Range Normalized Number of Likes')\n",
    "plt.ylabel('Range Normalized Number of Reactions')"
   ]
  },
  {
   "cell_type": "code",
   "execution_count": 23,
   "metadata": {},
   "outputs": [],
   "source": [
    "znorm_num_attrs = stand_norm(num_attrs.to_numpy().transpose())"
   ]
  },
  {
   "cell_type": "code",
   "execution_count": 24,
   "metadata": {},
   "outputs": [
    {
     "data": {
      "text/plain": [
       "array([[ 0.64605812, -0.17317938, -0.00673799, ..., -0.4930927 ,\n",
       "         0.2612975 , -0.46066905],\n",
       "       [ 0.32332741, -0.25218834,  0.01308846, ..., -0.25218834,\n",
       "        -0.23869968, -0.25218834],\n",
       "       [ 1.68675916, -0.30412282,  0.12900799, ..., -0.30412282,\n",
       "        -0.13694953, -0.30412282],\n",
       "       [ 0.48269237, -0.14470995, -0.02456908, ..., -0.47620975,\n",
       "         0.29803141, -0.44061246]])"
      ]
     },
     "execution_count": 24,
     "metadata": {},
     "output_type": "execute_result"
    }
   ],
   "source": [
    "znorm_num_attrs"
   ]
  },
  {
   "cell_type": "code",
   "execution_count": 25,
   "metadata": {},
   "outputs": [
    {
     "data": {
      "text/html": [
       "<div>\n",
       "<style scoped>\n",
       "    .dataframe tbody tr th:only-of-type {\n",
       "        vertical-align: middle;\n",
       "    }\n",
       "\n",
       "    .dataframe tbody tr th {\n",
       "        vertical-align: top;\n",
       "    }\n",
       "\n",
       "    .dataframe thead th {\n",
       "        text-align: right;\n",
       "    }\n",
       "</style>\n",
       "<table border=\"1\" class=\"dataframe\">\n",
       "  <thead>\n",
       "    <tr style=\"text-align: right;\">\n",
       "      <th></th>\n",
       "      <th>0</th>\n",
       "      <th>1</th>\n",
       "      <th>2</th>\n",
       "      <th>3</th>\n",
       "    </tr>\n",
       "  </thead>\n",
       "  <tbody>\n",
       "    <tr>\n",
       "      <th>0</th>\n",
       "      <td>0.646058</td>\n",
       "      <td>0.323327</td>\n",
       "      <td>1.686759</td>\n",
       "      <td>0.482692</td>\n",
       "    </tr>\n",
       "    <tr>\n",
       "      <th>1</th>\n",
       "      <td>-0.173179</td>\n",
       "      <td>-0.252188</td>\n",
       "      <td>-0.304123</td>\n",
       "      <td>-0.144710</td>\n",
       "    </tr>\n",
       "    <tr>\n",
       "      <th>2</th>\n",
       "      <td>-0.006738</td>\n",
       "      <td>0.013088</td>\n",
       "      <td>0.129008</td>\n",
       "      <td>-0.024569</td>\n",
       "    </tr>\n",
       "    <tr>\n",
       "      <th>3</th>\n",
       "      <td>-0.257481</td>\n",
       "      <td>-0.252188</td>\n",
       "      <td>-0.304123</td>\n",
       "      <td>-0.231478</td>\n",
       "    </tr>\n",
       "    <tr>\n",
       "      <th>4</th>\n",
       "      <td>-0.037000</td>\n",
       "      <td>-0.252188</td>\n",
       "      <td>-0.304123</td>\n",
       "      <td>-0.024569</td>\n",
       "    </tr>\n",
       "    <tr>\n",
       "      <th>...</th>\n",
       "      <td>...</td>\n",
       "      <td>...</td>\n",
       "      <td>...</td>\n",
       "      <td>...</td>\n",
       "    </tr>\n",
       "    <tr>\n",
       "      <th>7045</th>\n",
       "      <td>-0.305036</td>\n",
       "      <td>-0.252188</td>\n",
       "      <td>-0.304123</td>\n",
       "      <td>-0.280425</td>\n",
       "    </tr>\n",
       "    <tr>\n",
       "      <th>7046</th>\n",
       "      <td>-0.462831</td>\n",
       "      <td>-0.252188</td>\n",
       "      <td>-0.304123</td>\n",
       "      <td>-0.447287</td>\n",
       "    </tr>\n",
       "    <tr>\n",
       "      <th>7047</th>\n",
       "      <td>-0.493093</td>\n",
       "      <td>-0.252188</td>\n",
       "      <td>-0.304123</td>\n",
       "      <td>-0.476210</td>\n",
       "    </tr>\n",
       "    <tr>\n",
       "      <th>7048</th>\n",
       "      <td>0.261298</td>\n",
       "      <td>-0.238700</td>\n",
       "      <td>-0.136950</td>\n",
       "      <td>0.298031</td>\n",
       "    </tr>\n",
       "    <tr>\n",
       "      <th>7049</th>\n",
       "      <td>-0.460669</td>\n",
       "      <td>-0.252188</td>\n",
       "      <td>-0.304123</td>\n",
       "      <td>-0.440612</td>\n",
       "    </tr>\n",
       "  </tbody>\n",
       "</table>\n",
       "<p>7050 rows × 4 columns</p>\n",
       "</div>"
      ],
      "text/plain": [
       "             0         1         2         3\n",
       "0     0.646058  0.323327  1.686759  0.482692\n",
       "1    -0.173179 -0.252188 -0.304123 -0.144710\n",
       "2    -0.006738  0.013088  0.129008 -0.024569\n",
       "3    -0.257481 -0.252188 -0.304123 -0.231478\n",
       "4    -0.037000 -0.252188 -0.304123 -0.024569\n",
       "...        ...       ...       ...       ...\n",
       "7045 -0.305036 -0.252188 -0.304123 -0.280425\n",
       "7046 -0.462831 -0.252188 -0.304123 -0.447287\n",
       "7047 -0.493093 -0.252188 -0.304123 -0.476210\n",
       "7048  0.261298 -0.238700 -0.136950  0.298031\n",
       "7049 -0.460669 -0.252188 -0.304123 -0.440612\n",
       "\n",
       "[7050 rows x 4 columns]"
      ]
     },
     "execution_count": 25,
     "metadata": {},
     "output_type": "execute_result"
    }
   ],
   "source": [
    "pd.DataFrame(znorm_num_attrs.transpose())"
   ]
  },
  {
   "cell_type": "code",
   "execution_count": 26,
   "metadata": {},
   "outputs": [],
   "source": [
    "z_norm_corr_mat = corr_mat(znorm_num_attrs)"
   ]
  },
  {
   "cell_type": "code",
   "execution_count": 27,
   "metadata": {},
   "outputs": [
    {
     "data": {
      "text/html": [
       "<div>\n",
       "<style scoped>\n",
       "    .dataframe tbody tr th:only-of-type {\n",
       "        vertical-align: middle;\n",
       "    }\n",
       "\n",
       "    .dataframe tbody tr th {\n",
       "        vertical-align: top;\n",
       "    }\n",
       "\n",
       "    .dataframe thead th {\n",
       "        text-align: right;\n",
       "    }\n",
       "</style>\n",
       "<table border=\"1\" class=\"dataframe\">\n",
       "  <thead>\n",
       "    <tr style=\"text-align: right;\">\n",
       "      <th></th>\n",
       "      <th>0</th>\n",
       "      <th>1</th>\n",
       "      <th>2</th>\n",
       "      <th>3</th>\n",
       "    </tr>\n",
       "  </thead>\n",
       "  <tbody>\n",
       "    <tr>\n",
       "      <th>0</th>\n",
       "      <td>1.000000</td>\n",
       "      <td>0.150843</td>\n",
       "      <td>0.250723</td>\n",
       "      <td>0.994923</td>\n",
       "    </tr>\n",
       "    <tr>\n",
       "      <th>1</th>\n",
       "      <td>0.150843</td>\n",
       "      <td>1.000000</td>\n",
       "      <td>0.640637</td>\n",
       "      <td>0.101687</td>\n",
       "    </tr>\n",
       "    <tr>\n",
       "      <th>2</th>\n",
       "      <td>0.250723</td>\n",
       "      <td>0.640637</td>\n",
       "      <td>1.000000</td>\n",
       "      <td>0.172492</td>\n",
       "    </tr>\n",
       "    <tr>\n",
       "      <th>3</th>\n",
       "      <td>0.994923</td>\n",
       "      <td>0.101687</td>\n",
       "      <td>0.172492</td>\n",
       "      <td>1.000000</td>\n",
       "    </tr>\n",
       "  </tbody>\n",
       "</table>\n",
       "</div>"
      ],
      "text/plain": [
       "          0         1         2         3\n",
       "0  1.000000  0.150843  0.250723  0.994923\n",
       "1  0.150843  1.000000  0.640637  0.101687\n",
       "2  0.250723  0.640637  1.000000  0.172492\n",
       "3  0.994923  0.101687  0.172492  1.000000"
      ]
     },
     "execution_count": 27,
     "metadata": {},
     "output_type": "execute_result"
    }
   ],
   "source": [
    "pd.DataFrame(z_norm_corr_mat)"
   ]
  },
  {
   "cell_type": "code",
   "execution_count": 28,
   "metadata": {},
   "outputs": [
    {
     "name": "stdout",
     "output_type": "stream",
     "text": [
      "The greatest correlation of the Z-score-normalized attributes is: 0.9949233703318691 belonging to num_reactions and num_likes.\n"
     ]
    }
   ],
   "source": [
    "print(\"The greatest correlation of the Z-score-normalized attributes is: \" + str(z_norm_corr_mat[0,3]) + \" belonging to num_reactions and num_likes.\")"
   ]
  },
  {
   "cell_type": "code",
   "execution_count": 29,
   "metadata": {},
   "outputs": [
    {
     "data": {
      "text/plain": [
       "Text(0, 0.5, 'Z-Score Normalized Number of Reactions')"
      ]
     },
     "execution_count": 29,
     "metadata": {},
     "output_type": "execute_result"
    },
    {
     "data": {
      "image/png": "[encoded data removed]",
      "text/plain": [
       "<Figure size 432x288 with 1 Axes>"
      ]
     },
     "metadata": {
      "needs_background": "light"
     },
     "output_type": "display_data"
    }
   ],
   "source": [
    "plt.scatter(znorm_num_attrs.transpose()[:,3], znorm_num_attrs.transpose()[:,0])\n",
    "plt.title('Z-Score Normalized (Number of Likes vs Number of Reactions)')\n",
    "plt.xlabel('Z-Score Normalized Number of Likes')\n",
    "plt.ylabel('Z-Score Normalized Number of Reactions')"
   ]
  },
  {
   "cell_type": "code",
   "execution_count": 30,
   "metadata": {},
   "outputs": [
    {
     "name": "stdout",
     "output_type": "stream",
     "text": [
      "The smallest correlation of the Z-score-normalized attributes is: 0.10168703564349828 belonging to num_comments and num_likes.\n"
     ]
    }
   ],
   "source": [
    "print(\"The smallest correlation of the Z-score-normalized attributes is: \" + str(z_norm_corr_mat[1,3]) + \" belonging to num_comments and num_likes.\")"
   ]
  },
  {
   "cell_type": "code",
   "execution_count": 31,
   "metadata": {},
   "outputs": [
    {
     "name": "stdout",
     "output_type": "stream",
     "text": [
      "Two of the six correlation pairs are greater than or equal to 0.5.\n"
     ]
    }
   ],
   "source": [
    "print(\"Two of the six correlation pairs are greater than or equal to 0.5.\")"
   ]
  },
  {
   "cell_type": "code",
   "execution_count": 32,
   "metadata": {},
   "outputs": [],
   "source": [
    "cov_mat = covar_mat(num_attrs.to_numpy().transpose())"
   ]
  },
  {
   "cell_type": "code",
   "execution_count": 33,
   "metadata": {},
   "outputs": [
    {
     "data": {
      "text/html": [
       "<div>\n",
       "<style scoped>\n",
       "    .dataframe tbody tr th:only-of-type {\n",
       "        vertical-align: middle;\n",
       "    }\n",
       "\n",
       "    .dataframe tbody tr th {\n",
       "        vertical-align: top;\n",
       "    }\n",
       "\n",
       "    .dataframe thead th {\n",
       "        text-align: right;\n",
       "    }\n",
       "</style>\n",
       "<table border=\"1\" class=\"dataframe\">\n",
       "  <thead>\n",
       "    <tr style=\"text-align: right;\">\n",
       "      <th></th>\n",
       "      <th>0</th>\n",
       "      <th>1</th>\n",
       "      <th>2</th>\n",
       "      <th>3</th>\n",
       "    </tr>\n",
       "  </thead>\n",
       "  <tbody>\n",
       "    <tr>\n",
       "      <th>0</th>\n",
       "      <td>214022.176652</td>\n",
       "      <td>62082.188810</td>\n",
       "      <td>15264.356557</td>\n",
       "      <td>206881.667525</td>\n",
       "    </tr>\n",
       "    <tr>\n",
       "      <th>1</th>\n",
       "      <td>62082.188810</td>\n",
       "      <td>791453.670644</td>\n",
       "      <td>75003.376988</td>\n",
       "      <td>40661.305968</td>\n",
       "    </tr>\n",
       "    <tr>\n",
       "      <th>2</th>\n",
       "      <td>15264.356557</td>\n",
       "      <td>75003.376988</td>\n",
       "      <td>17318.550917</td>\n",
       "      <td>10202.991934</td>\n",
       "    </tr>\n",
       "    <tr>\n",
       "      <th>3</th>\n",
       "      <td>206881.667525</td>\n",
       "      <td>40661.305968</td>\n",
       "      <td>10202.991934</td>\n",
       "      <td>202025.399758</td>\n",
       "    </tr>\n",
       "  </tbody>\n",
       "</table>\n",
       "</div>"
      ],
      "text/plain": [
       "               0              1             2              3\n",
       "0  214022.176652   62082.188810  15264.356557  206881.667525\n",
       "1   62082.188810  791453.670644  75003.376988   40661.305968\n",
       "2   15264.356557   75003.376988  17318.550917   10202.991934\n",
       "3  206881.667525   40661.305968  10202.991934  202025.399758"
      ]
     },
     "execution_count": 33,
     "metadata": {},
     "output_type": "execute_result"
    }
   ],
   "source": [
    "pd.DataFrame(cov_mat)"
   ]
  },
  {
   "cell_type": "code",
   "execution_count": 34,
   "metadata": {},
   "outputs": [
    {
     "name": "stdout",
     "output_type": "stream",
     "text": [
      "No pairs of features have a negative sample covariance\n"
     ]
    }
   ],
   "source": [
    "print(\"No pairs of features have a negative sample covariance\")"
   ]
  },
  {
   "cell_type": "code",
   "execution_count": 35,
   "metadata": {},
   "outputs": [],
   "source": [
    "num_attrs_np = num_attrs.to_numpy().transpose()"
   ]
  },
  {
   "cell_type": "code",
   "execution_count": 36,
   "metadata": {},
   "outputs": [],
   "source": [
    "total_vari = tot_var(num_attrs_np)"
   ]
  },
  {
   "cell_type": "code",
   "execution_count": 38,
   "metadata": {},
   "outputs": [
    {
     "name": "stdout",
     "output_type": "stream",
     "text": [
      "The total variance is: 1224819.7979709515\n"
     ]
    }
   ],
   "source": [
    "print(\"The total variance is: \" + str(total_vari))"
   ]
  },
  {
   "cell_type": "code",
   "execution_count": 40,
   "metadata": {},
   "outputs": [
    {
     "name": "stdout",
     "output_type": "stream",
     "text": [
      "The total variance, restricted to five features (we only have four anyway) is: 1224819.7979709515\n"
     ]
    }
   ],
   "source": [
    "print(\"The total variance, restricted to five features (we only have four anyway) is: \" + str(total_vari))"
   ]
  },
  {
   "cell_type": "code",
   "execution_count": null,
   "metadata": {},
   "outputs": [],
   "source": []
  }
 ],
 "metadata": {
  "kernelspec": {
   "display_name": "Python 3",
   "language": "python",
   "name": "python3"
  },
  "language_info": {
   "codemirror_mode": {
    "name": "ipython",
    "version": 3
   },
   "file_extension": ".py",
   "mimetype": "text/x-python",
   "name": "python",
   "nbconvert_exporter": "python",
   "pygments_lexer": "ipython3",
   "version": "3.6.7"
  }
 },
 "nbformat": 4,
 "nbformat_minor": 2
}
